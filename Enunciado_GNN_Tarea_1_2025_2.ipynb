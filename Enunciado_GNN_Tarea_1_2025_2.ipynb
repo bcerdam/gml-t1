{
  "cells": [
    {
      "cell_type": "markdown",
      "metadata": {
        "id": "FyoSWRNG4V6j"
      },
      "source": [
        "Pontificia Universidad Católica de Chile <br>\n",
        "Departamento de Ciencia de la Computación <br>\n",
        "IIC3641 - Aprendizaje Automático Basado en Grafos <br>\n",
        "Segundo Semestre 2025<br>\n",
        "\n",
        "\n",
        "<h1><center> Tarea 1: Modelos de grafos  </center></h1>\n",
        "        Profesor: Marcelo Mendoza<br>\n",
        "        Fecha de entrega: 8 de septiembre\n",
        "\n",
        "---"
      ]
    },
    {
      "cell_type": "markdown",
      "metadata": {
        "id": "IqaM5wrU4V6o"
      },
      "source": [
        "## Indicaciones\n",
        "\n",
        "Se debe entregar **SOLO** el archivo .ipynb en el buzón respectivo en canvas.\n",
        "\n",
        "**IMPORTANTE**:\n",
        "- Se asignará puntaje por el código implementado y los comentarios asociados a resultados.\n",
        "- El notebook debe tener todas las celdas de código ejecutadas.\n",
        "- Cualquier instancia de copia resultará en un 1,1 como nota de curso.\n",
        "- Esta tarea **NO** requiere el uso de GPU.\n",
        "\n",
        "---"
      ]
    },
    {
      "cell_type": "markdown",
      "metadata": {
        "id": "T6riRFCN49it"
      },
      "source": [
        "# Integrantes del grupo\n",
        "\n",
        "* Estudiante 1:\n",
        "* Estudiante 2:"
      ]
    },
    {
      "cell_type": "markdown",
      "metadata": {
        "id": "qF99zSnD4V6o"
      },
      "source": [
        "# Librerías"
      ]
    },
    {
      "cell_type": "code",
      "execution_count": null,
      "metadata": {
        "id": "eM5xDd9l4V6p"
      },
      "outputs": [],
      "source": [
        "import numpy as np\n",
        "import matplotlib.pyplot as plt\n",
        "import pandas as pd\n",
        "import seaborn as sns\n",
        "import networkx as nx\n",
        "\n",
        "# Importa aquí las librerías que vayas a utilizar"
      ]
    },
    {
      "cell_type": "markdown",
      "metadata": {
        "id": "4WOcFvN44V6r"
      },
      "source": [
        "# Parte 1: Análisis red de colaboración (20 puntos)"
      ]
    },
    {
      "cell_type": "markdown",
      "metadata": {
        "id": "hn7FlUCW7eAj"
      },
      "source": [
        "En esta sección se debe desarrollar un análisis descriptivo con las principales características asociadas a las siguietes redes:\n",
        "* **General Relativity and Quantum Cosmology collaboration network:** ca-GrQc.txt\n",
        "* **Erdös Number:** Erdos982.txt\n",
        "\n",
        "Suponga que las redes son no dirigidas."
      ]
    },
    {
      "cell_type": "markdown",
      "metadata": {
        "id": "5lVXc41o-eHA"
      },
      "source": [
        "## 1.1 Medidas básicas (10 puntos)\n"
      ]
    },
    {
      "cell_type": "markdown",
      "metadata": {
        "id": "JnUZecK_-oq8"
      },
      "source": [
        "Grafique las redes de colaboraciones y determine las siguientes medidas descriptivas para cada caso si se puede:\n",
        "\n",
        "* Número de nodos\n",
        "* Número de componentes\n",
        "* Número de aristas\n",
        "* Grado promedio\n",
        "* Diametro\n",
        "* Camino mínimo promedio\n",
        "\n",
        "¿Qué características diferencian a estas redes? Interprete sus resultados en el contexto del problema.\n",
        "\n",
        "**Observación**\n",
        "\n",
        "En caso de reconocer dos o más componentes asociados a una red, solo trabaje con la de mayor tamaño .\n"
      ]
    },
    {
      "cell_type": "markdown",
      "metadata": {
        "id": "jsqZK2cv-1Wr"
      },
      "source": [
        "**Respuesta:**"
      ]
    },
    {
      "cell_type": "code",
      "execution_count": null,
      "metadata": {},
      "outputs": [],
      "source": []
    },
    {
      "cell_type": "markdown",
      "metadata": {
        "id": "4SoQsg4D7VWp"
      },
      "source": [
        "## 1.2 Evaluación de nodos (5 puntos)"
      ]
    },
    {
      "cell_type": "markdown",
      "metadata": {
        "id": "pq9Dn9Je_8YF"
      },
      "source": [
        "Investigue y describa las siguientes métricas:\n",
        "\n",
        "* degree centrality\n",
        "* closeness centrality\n",
        "* betweenness centrality\n",
        "\n",
        "¿En qué se diferencian?\n",
        "\n",
        "Calcule las métricas para cada red y grafique su distribución. Comente.\n",
        "\n",
        "Para cada caso, ¿qué nodos son los más relevantes según el criterio de centralidad?"
      ]
    },
    {
      "cell_type": "markdown",
      "metadata": {},
      "source": [
        "**Respuesta:**"
      ]
    },
    {
      "cell_type": "code",
      "execution_count": null,
      "metadata": {},
      "outputs": [],
      "source": []
    },
    {
      "cell_type": "markdown",
      "metadata": {
        "id": "P2w4T9xmBMRs"
      },
      "source": [
        "## 1.3 Eliminación de nodos (5 puntos)"
      ]
    },
    {
      "cell_type": "markdown",
      "metadata": {
        "id": "pqrvPiwcBP7Q"
      },
      "source": [
        "Tomando en consideración el criterio de centralidad de los nodos, elimine los 10 más relevantes para cada caso. Justifique su decisión.\n",
        "\n",
        "Luego, grafique las nuevas redes obtenidas y calcule las métricas de la actividad 1.1. Comente.\n",
        "\n",
        "¿Qué red muestra mayor robustez? Justifique su respuesta."
      ]
    },
    {
      "cell_type": "markdown",
      "metadata": {
        "id": "VNKm3gxgDnVT"
      },
      "source": [
        "**Respuesta:**"
      ]
    },
    {
      "cell_type": "code",
      "execution_count": null,
      "metadata": {},
      "outputs": [],
      "source": []
    },
    {
      "cell_type": "markdown",
      "metadata": {
        "id": "_nKsI-YYC6iL"
      },
      "source": [
        "# Parte 2: Análisis de red social (20 puntos)"
      ]
    },
    {
      "cell_type": "markdown",
      "metadata": {
        "id": "5fL9jfsWnYBq"
      },
      "source": [
        "En esta segunda sección se debe trabajar con un grafo que refleja las interacciones de una red social.\n",
        "\n",
        "El dataset es **lastfm_asia_edges.csv** y posee dos columnas: nodo origen y nodo destino."
      ]
    },
    {
      "cell_type": "markdown",
      "metadata": {
        "id": "cZGNrHD8KSKP"
      },
      "source": [
        "## 2.1 Modelos de grafo (4 puntos)\n"
      ]
    },
    {
      "cell_type": "markdown",
      "metadata": {
        "id": "LtcQZQFCPzIJ"
      },
      "source": [
        "Describa las principales características de los modelos:\n",
        "\n",
        "* Erdös-Rényi\n",
        "* Watts-Strogatz\n",
        "* Barabási-Albert\n",
        "\n",
        "¿En qué se diferencian?"
      ]
    },
    {
      "cell_type": "markdown",
      "metadata": {
        "id": "xRea1qNAC98F"
      },
      "source": [
        "**Respuesta:**"
      ]
    },
    {
      "cell_type": "code",
      "execution_count": null,
      "metadata": {
        "id": "HmeLNYX9PkIi"
      },
      "outputs": [],
      "source": []
    },
    {
      "cell_type": "markdown",
      "metadata": {
        "id": "7xDMTjD4KBu6"
      },
      "source": [
        "## 2.2 Caracterización de la red (4 puntos)"
      ]
    },
    {
      "cell_type": "markdown",
      "metadata": {
        "id": "XZvGIIVGP0lm"
      },
      "source": [
        "Grafique la distribución de grado de la red y determine el grado promedio. Interprete sus resultados."
      ]
    },
    {
      "cell_type": "markdown",
      "metadata": {
        "id": "xMmB2ZsjPoox"
      },
      "source": [
        "**Respuesta:**"
      ]
    },
    {
      "cell_type": "code",
      "execution_count": null,
      "metadata": {},
      "outputs": [],
      "source": []
    },
    {
      "cell_type": "markdown",
      "metadata": {
        "id": "Xvx2o4ziQAmv"
      },
      "source": [
        "## 2.3 Detección de HUB (4 puntos)"
      ]
    },
    {
      "cell_type": "markdown",
      "metadata": {
        "id": "0RWcw6gdQDkB"
      },
      "source": [
        "Determine la existencia de HUB en la red, indicando los nodos. Justifique el criterio utilizado.\n",
        "\n",
        "Luego, realice un gráfico apropiado que permita visualizarlos en la red (modificar tamaño o color)."
      ]
    },
    {
      "cell_type": "markdown",
      "metadata": {
        "id": "oLFd4KczQLoD"
      },
      "source": [
        "**Respuesta:**"
      ]
    },
    {
      "cell_type": "code",
      "execution_count": null,
      "metadata": {},
      "outputs": [],
      "source": []
    },
    {
      "cell_type": "markdown",
      "metadata": {
        "id": "frBjVqUdavoY"
      },
      "source": [
        "## 2.4 Scale-Free (4 puntos)"
      ]
    },
    {
      "cell_type": "markdown",
      "metadata": {
        "id": "plg0UWSRaxxM"
      },
      "source": [
        "Calcule el coeficiente **gamma (γ)**, ajustando una power-law. Obtenga el coeficiente de determinación. ¿Qué tan bueno es el ajuste?\n",
        "\n",
        "¿La red es scale-free? Justifique su respuesta."
      ]
    },
    {
      "cell_type": "markdown",
      "metadata": {},
      "source": [
        "**Respuesta:**"
      ]
    },
    {
      "cell_type": "code",
      "execution_count": null,
      "metadata": {},
      "outputs": [],
      "source": []
    },
    {
      "cell_type": "markdown",
      "metadata": {
        "id": "bzmoU359QNEv"
      },
      "source": [
        "## 2.5 Comparación de redes (4 puntos)"
      ]
    },
    {
      "cell_type": "markdown",
      "metadata": {
        "id": "v_zbJiV1QpP1"
      },
      "source": [
        "Utilizando las principales características de la red social analizada, cree dos grafos basados en los modelos Erdös-Rényi y Barabási-Albert.\n",
        "\n",
        "* Para Erdös-Rényi: evalúe **p** en el intervalo 0 a p=0.001, seleccionando la probabilidad de tal manera que el grado promedio del grafo se aproxime al de la red social real.\n",
        "\n",
        "* Para Barabási–Albert: evalúe **m** entre 1 y 20. Seleccione este parámetro de tal manera que el grado promedio del grafo creado se aproxime al de red social real.\n",
        "\n",
        "Luego, en un mismo gráfico, muestre la distribución de grado de los tres grafos: red social real, Erdös-Rényi y Barabási–Albert. ¿Qué tipo de modelo de grafo se ajusta mejor al comportamiento de la red social? Justique."
      ]
    },
    {
      "cell_type": "markdown",
      "metadata": {
        "id": "mqWj5WZE36b5"
      },
      "source": [
        "**Respuesta:**"
      ]
    },
    {
      "cell_type": "code",
      "execution_count": null,
      "metadata": {},
      "outputs": [],
      "source": []
    },
    {
      "cell_type": "markdown",
      "metadata": {
        "id": "q-Gdb--9BEHz"
      },
      "source": [
        "# Parte 3: Detección de comunidades (20 puntos)"
      ]
    },
    {
      "cell_type": "markdown",
      "metadata": {
        "id": "t16d3g1d2EfK"
      },
      "source": [
        "En esta sección investigaremos e implementaremos métodos de detección de comunidades. Esta tarea resulta fundamental, ya que permite comprender cómo se organizan los nodos de un grafo en grupos con alta cohesión interna"
      ]
    },
    {
      "cell_type": "markdown",
      "metadata": {
        "id": "Pmi6h8FVFL28"
      },
      "source": [
        "## 3.1 Definiciones (2.5 Puntos)"
      ]
    },
    {
      "cell_type": "markdown",
      "metadata": {
        "id": "D1Zr9dUN5tAE"
      },
      "source": [
        "Investigue y defina los siguientes conceptos relacionados con detección de comunidades en grafos:\n",
        "* Algoritmo de Louvain\n",
        "* Algoritmo de Leiden\n",
        "* Modularidad\n",
        "* Normalized Mutual Information (NMI)\n",
        "* Adjusted Rand Index (ARI)"
      ]
    },
    {
      "cell_type": "markdown",
      "metadata": {
        "id": "zR0rRKOv6J_g"
      },
      "source": [
        "**Rsspuesta:**"
      ]
    },
    {
      "cell_type": "markdown",
      "metadata": {
        "id": "F3Z6zvn1FNyk"
      },
      "source": [
        "## 3.2 Modelo LFR (2.5 Puntos)"
      ]
    },
    {
      "cell_type": "markdown",
      "metadata": {
        "id": "Ot7zY--g1VlM"
      },
      "source": [
        "Cree un grafo usando el modelo Lancichinetti-Fortunato-Radicchi con los siguientes hiperparámetros:"
      ]
    },
    {
      "cell_type": "markdown",
      "metadata": {
        "id": "4keVGmrD49wS"
      },
      "source": [
        "* n = 300\n",
        "* tau1 = 3\n",
        "* tau2 = 1.5\n",
        "* mu = 0.2\n",
        "* average_degree = 7\n",
        "* min_community = 20\n",
        "* seed = 10\n",
        "\n",
        "¿Cuántas nodos, aristas y comunidades tiene el grafo?"
      ]
    },
    {
      "cell_type": "markdown",
      "metadata": {
        "id": "otpi0BQj6L5a"
      },
      "source": [
        "**Respuesta:**"
      ]
    },
    {
      "cell_type": "code",
      "execution_count": null,
      "metadata": {},
      "outputs": [],
      "source": []
    },
    {
      "cell_type": "markdown",
      "metadata": {
        "id": "VJqIy9yO7A1T"
      },
      "source": [
        "## 3.3 Implementación de algoritmos (5 Puntos)"
      ]
    },
    {
      "cell_type": "markdown",
      "metadata": {},
      "source": [
        "Aplique los algoritmos de Louvain y Leiden al grafo obtenido en la sección anterior, y obtenga la partición de comunidades resultante de cada algoritmo.\n",
        "\n",
        "*Nota:* Puede usar librerias externas que ya implementen estos algoritmos."
      ]
    },
    {
      "cell_type": "markdown",
      "metadata": {
        "id": "yRdfz9_w6ZfO"
      },
      "source": [
        "**Respuesta:**"
      ]
    },
    {
      "cell_type": "code",
      "execution_count": null,
      "metadata": {},
      "outputs": [],
      "source": []
    },
    {
      "cell_type": "markdown",
      "metadata": {
        "id": "e1nxnWu888jC"
      },
      "source": [
        "## 3.4 Medición de la calidad de las comunidades (5 Puntos)"
      ]
    },
    {
      "cell_type": "markdown",
      "metadata": {},
      "source": [
        "Calcule las métricas NMI y ARI para las particiones obtenidas por cada algoritmo. Comente sus resultados."
      ]
    },
    {
      "cell_type": "markdown",
      "metadata": {
        "id": "7Pil7zVz9IWh"
      },
      "source": [
        "**Respuesta:**"
      ]
    },
    {
      "cell_type": "code",
      "execution_count": null,
      "metadata": {},
      "outputs": [],
      "source": []
    },
    {
      "cell_type": "markdown",
      "metadata": {
        "id": "h7je3SHaFPO4"
      },
      "source": [
        "## 3.5 Detección y representación de comunidades (5 Puntos)"
      ]
    },
    {
      "cell_type": "markdown",
      "metadata": {},
      "source": [
        "Ejecute los algoritmos sobre alguno de los grafos de las secciones anteriores. Grafique el grafo coloreando los nodos según la partición obtenida y comente."
      ]
    },
    {
      "cell_type": "markdown",
      "metadata": {
        "id": "k6uCGwoo_GtI"
      },
      "source": [
        "**Respuesta:**"
      ]
    },
    {
      "cell_type": "code",
      "execution_count": null,
      "metadata": {
        "id": "ZRM0PkknF7vR"
      },
      "outputs": [],
      "source": []
    }
  ],
  "metadata": {
    "colab": {
      "collapsed_sections": [
        "_nKsI-YYC6iL",
        "7xDMTjD4KBu6",
        "Xvx2o4ziQAmv",
        "PJS6HPK0ErYN"
      ],
      "provenance": []
    },
    "kernelspec": {
      "display_name": "Python 3",
      "name": "python3"
    },
    "language_info": {
      "codemirror_mode": {
        "name": "ipython",
        "version": 3
      },
      "file_extension": ".py",
      "mimetype": "text/x-python",
      "name": "python",
      "nbconvert_exporter": "python",
      "pygments_lexer": "ipython3",
      "version": "3.10.10"
    },
    "orig_nbformat": 4
  },
  "nbformat": 4,
  "nbformat_minor": 0
}
